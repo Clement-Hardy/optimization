{
 "cells": [
  {
   "cell_type": "markdown",
   "metadata": {},
   "source": [
    "# Short Lab 3 : Proximal/cyclic/greedy coordinate descent\n",
    "\n",
    "#### Authors: M. Massias, P. Ablin\n",
    "\n",
    "## Aim\n",
    "\n",
    "The aim of this material is to code \n",
    "- cyclic and greedy coordinate descent for ordinary least squares (OLS)\n",
    "- proximal gradient descent for sparse Logistic regression\n",
    "\n",
    "## VERY IMPORTANT\n",
    "\n",
    "- This work **must be done by pairs of students**.\n",
    "- **Each** student must send their work **before the 11th of november at 23:59**, using the **moodle platform**.\n",
    "- This means that **each student in the pair sends the same file**\n",
    "- On the moodle, in the \"Optimization for Data Science\" course, you have a \"devoir\" section called **Rendu TP du 5 novembre 2017**. This is where you submit your jupyter notebook file. \n",
    "- The **name of the file must be** constructed as in the next cell\n",
    "\n",
    "# Gentle reminder: no evaluation if you don't respect this EXACTLY\n",
    "\n",
    "### How to construct the name of your file"
   ]
  },
  {
   "cell_type": "code",
   "execution_count": 2,
   "metadata": {
    "ExecuteTime": {
     "end_time": "2018-11-11T16:25:40.598701Z",
     "start_time": "2018-11-11T16:25:40.582079Z"
    }
   },
   "outputs": [
    {
     "name": "stdout",
     "output_type": "stream",
     "text": [
      "lab3_hardy_clement_and_larrouy_felix.ipynb\n"
     ]
    }
   ],
   "source": [
    "# Change here using YOUR first and last names\n",
    "fn1 = \"clement\"\n",
    "ln1 = \"hardy\"\n",
    "fn2 = \"felix\"\n",
    "ln2 = \"larrouy\"\n",
    "\n",
    "filename = \"_\".join(map(lambda s: s.strip().lower(),\n",
    "                        [\"lab3\", ln1, fn1, \"and\", ln2, fn2])) + \".ipynb\"\n",
    "print(filename)"
   ]
  },
  {
   "cell_type": "code",
   "execution_count": 3,
   "metadata": {
    "ExecuteTime": {
     "end_time": "2018-11-11T16:25:40.853719Z",
     "start_time": "2018-11-11T16:25:40.848272Z"
    },
    "collapsed": true
   },
   "outputs": [],
   "source": [
    "import numpy as np\n",
    "from numpy.linalg import norm\n",
    "import pandas as pd\n",
    "import matplotlib.pyplot as plt\n",
    "plt.style.use('seaborn')"
   ]
  },
  {
   "cell_type": "code",
   "execution_count": 3,
   "metadata": {
    "ExecuteTime": {
     "end_time": "2018-11-11T16:17:42.868121Z",
     "start_time": "2018-11-11T16:17:42.862189Z"
    },
    "collapsed": true
   },
   "outputs": [],
   "source": [
    "# choose a large font size by default and use tex for math\n",
    "usetex = False  # change this to True if you have a working LaTeX install\n",
    "\n",
    "fontsize = 16\n",
    "params = {'axes.labelsize': fontsize,\n",
    "          'font.size': fontsize,\n",
    "          'legend.fontsize': fontsize - 3,\n",
    "          'axes.titlesize': fontsize + 4,\n",
    "          'xtick.labelsize': fontsize,\n",
    "          'ytick.labelsize': fontsize,\n",
    "          'text.usetex': usetex}\n",
    "plt.rcParams.update(params)"
   ]
  },
  {
   "cell_type": "code",
   "execution_count": 4,
   "metadata": {
    "ExecuteTime": {
     "end_time": "2018-11-11T16:17:42.893879Z",
     "start_time": "2018-11-11T16:17:42.871170Z"
    },
    "collapsed": true
   },
   "outputs": [],
   "source": [
    "# the usual functions:\n",
    "\n",
    "from numpy.random import multivariate_normal\n",
    "from scipy.linalg.special_matrices import toeplitz\n",
    "from numpy.random import randn\n",
    "\n",
    "\n",
    "def simu(coefs, n_samples=1000, corr=0.5, for_logreg=False):\n",
    "    n_features = len(coefs)\n",
    "    cov = toeplitz(corr ** np.arange(0, n_features))\n",
    "    A = multivariate_normal(np.zeros(n_features), cov, size=n_samples)\n",
    "    b = A.dot(coefs) + randn(n_samples)\n",
    "    if for_logreg:\n",
    "        b = np.sign(b)\n",
    "    return A, b"
   ]
  },
  {
   "cell_type": "markdown",
   "metadata": {},
   "source": [
    "## Part 1: Ordinary Least Squares\n",
    "\n",
    "\n",
    "Let $A \\in \\mathbb{R}^{n \\times p}$, $y \\in \\mathbb{R}^n$.\n",
    "We want to use coordinate descent to solve:\n",
    "    $$\\hat w \\in  \\mathrm{arg \\, min \\,} \\frac 12 \\Vert Aw - b \\Vert ^2 $$\n",
    "\n",
    "We ask you to code:\n",
    "- cyclic coordinate descent: at iteration $t$, update feature $j = t \\mod p$\n",
    "- greedy coordinate descent: at iteration $t$, update feature having the largest partial gradient in magnitude, ie $j = \\mathrm{arg\\, max \\,}_{i} \\vert \\nabla_i f(w_t) \\vert$.\n",
    "\n",
    "\n",
    "**WARNING**: You must do this in a clever way, ie such that $p$ updates cost the same as one update of GD."
   ]
  },
  {
   "cell_type": "code",
   "execution_count": 5,
   "metadata": {
    "ExecuteTime": {
     "end_time": "2018-11-11T16:17:42.922086Z",
     "start_time": "2018-11-11T16:17:42.896250Z"
    },
    "collapsed": true
   },
   "outputs": [],
   "source": [
    "n_features = 100\n",
    "np.random.seed(1970)\n",
    "coefs = np.random.randn(n_features)\n",
    "\n",
    "A, b = simu(coefs, n_samples=1000, for_logreg=False)"
   ]
  },
  {
   "cell_type": "code",
   "execution_count": 6,
   "metadata": {
    "ExecuteTime": {
     "end_time": "2018-11-11T16:17:42.960127Z",
     "start_time": "2018-11-11T16:17:42.926056Z"
    },
    "collapsed": true
   },
   "outputs": [],
   "source": [
    "def cyclic_cd(A, b, n_iter):\n",
    "    n_samples, n_features = A.shape\n",
    "    all_objs = []\n",
    "\n",
    "    w = np.zeros(n_features)\n",
    "    residuals = b - A.dot(w)\n",
    "\n",
    "    lips_const = np.linalg.norm(A, axis=0) ** 2\n",
    "\n",
    "    for t in range(n_iter):\n",
    "        j = t % n_features\n",
    "        old_w_j = w[j]\n",
    "        w[j] += A[:, j].T.dot(residuals) / lips_const[j]\n",
    "        # update residuals:\n",
    "        residuals += A[:, j].dot(old_w_j - w[j])\n",
    "\n",
    "        if t % n_features == 0:\n",
    "            all_objs.append((residuals ** 2).sum() / 2.)\n",
    "    return w, np.array(all_objs)\n",
    "\n",
    "\n",
    "def greedy_cd(A, b, n_iter):\n",
    "    n_samples, n_features = A.shape\n",
    "    all_objs = []\n",
    "\n",
    "    w = np.zeros(n_features)\n",
    "\n",
    "    gradient = A.T.dot(A.dot(w) - b)\n",
    "    gram = A.T.dot(A)  # you will need this to keep the gradient up to date\n",
    "\n",
    "    lips_const = np.linalg.norm(A, axis=0) ** 2\n",
    "\n",
    "    for t in range(n_iter):\n",
    "        # choose feature j to update:\n",
    "        j = np.argmax(np.abs(gradient))\n",
    "        old_w_j = w[j]\n",
    "        w[j] -= gradient[j] / lips_const[j]\n",
    "        # update gradient:\n",
    "        gradient += gram[:, j].dot(w[j] - old_w_j)\n",
    "\n",
    "        if t % n_features == 0:\n",
    "            all_objs.append(0.5 * np.linalg.norm(A.dot(w) - b) ** 2)\n",
    "\n",
    "    return w, np.array(all_objs)"
   ]
  },
  {
   "cell_type": "markdown",
   "metadata": {},
   "source": [
    "- compute a precise minimum with your favorite solver\n",
    "- compare the performance of cyclic and greedy CD\n",
    "\n",
    "- could you use greedy CD for unregularized logistic regression? for OLS, but with 100,000 features? Explain your answers."
   ]
  },
  {
   "cell_type": "markdown",
   "metadata": {},
   "source": [
    "### Compute a precise minimum with your favorite solver\n",
    "\n",
    "Here we use BFGS solver from scipy."
   ]
  },
  {
   "cell_type": "code",
   "execution_count": 7,
   "metadata": {
    "ExecuteTime": {
     "end_time": "2018-11-11T16:17:43.002039Z",
     "start_time": "2018-11-11T16:17:42.963947Z"
    },
    "collapsed": true
   },
   "outputs": [],
   "source": [
    "from scipy.optimize import fmin_l_bfgs_b\n",
    "\n",
    "\n",
    "def loss(w, A, b):\n",
    "    return np.linalg.norm(A.dot(w) - b) ** 2 / 2\n",
    "\n",
    "\n",
    "def grad(w, A, b):\n",
    "    return A.T.dot(A.dot(w) - b)\n",
    "\n",
    "\n",
    "x_init = np.zeros(n_features)\n",
    "x_min, f_min, _ = fmin_l_bfgs_b(\n",
    "    loss, x_init, grad, args=(A, b), pgtol=1e-30, factr=1e-30)"
   ]
  },
  {
   "cell_type": "markdown",
   "metadata": {},
   "source": [
    "### Compare the performance of cyclic and greedy CD"
   ]
  },
  {
   "cell_type": "code",
   "execution_count": 8,
   "metadata": {
    "ExecuteTime": {
     "end_time": "2018-11-11T16:17:43.442557Z",
     "start_time": "2018-11-11T16:17:43.005733Z"
    }
   },
   "outputs": [
    {
     "data": {
      "text/plain": [
       "<matplotlib.legend.Legend at 0x7f292c0d3990>"
      ]
     },
     "execution_count": 8,
     "metadata": {},
     "output_type": "execute_result"
    },
    {
     "data": {
      "image/png": "[encoded data removed]",
      "text/plain": [
       "<matplotlib.figure.Figure at 0x7f2955558090>"
      ]
     },
     "metadata": {
      "needs_background": "light"
     },
     "output_type": "display_data"
    }
   ],
   "source": [
    "w_cyclic, all_objs_cyclic = cyclic_cd(A, b, 1000)\n",
    "w_greedy, all_objs_greedy = greedy_cd(A, b, 1000)\n",
    "\n",
    "plt.figure(figsize=(8, 5))\n",
    "plt.semilogy(all_objs_cyclic, label=\"cyclic CD\")\n",
    "plt.semilogy(all_objs_greedy, label=\"greedy CD\")\n",
    "plt.title('Objective')\n",
    "plt.xlabel('epoch')\n",
    "plt.ylabel('objective')\n",
    "plt.legend()"
   ]
  },
  {
   "cell_type": "markdown",
   "metadata": {},
   "source": [
    "**Comments**\n",
    "\n",
    "We can observe that both cyclic CD and greedy CD are converging but it takes less epochs to greedy CD to stabilize (around 4), while it takes around 6 epochs for cyclic CD."
   ]
  },
  {
   "cell_type": "markdown",
   "metadata": {},
   "source": [
    "### Could you use greedy CD for unregularized logistic regression? for OLS, but with 100,000 features? Explain your answers."
   ]
  },
  {
   "cell_type": "markdown",
   "metadata": {},
   "source": [
    "The computation in the case of OLS with 100.000 features seems to be difficult, the convergence aren't necessary possible.\n",
    "The causes are that in high dimensions the function isn't smooth and convex."
   ]
  },
  {
   "cell_type": "markdown",
   "metadata": {},
   "source": [
    "## Part 2: Sparse Logistic regression"
   ]
  },
  {
   "cell_type": "markdown",
   "metadata": {},
   "source": [
    "### An important result\n",
    "\n",
    "Remember: we are solving \n",
    "$$\\hat w \\in \\mathrm{arg \\, min} \\sum_{i=1}^{n} \\mathrm{log} ( 1 + e^{- y_i w^\\top x_i} )  + \\lambda \\Vert w \\Vert_1$$\n",
    "1) Show that:\n",
    "$$ \\lambda \\geq \\lambda_{max} \\implies \\hat w = 0$$\n",
    "where $\\lambda_{max} := \\frac 12 \\Vert X^\\top y \\Vert_{\\infty}$.\n",
    "\n",
    "\n",
    "You will need the following beautiful result: for any $w =(w_1, \\dots, w_p) \\in \\mathbb{R}^p$, the subdifferential of the L1 norm at $w$ is:\n",
    "\n",
    "$$\\partial \\Vert \\cdot \\Vert_1 (w) = \\partial \\vert \\cdot \\vert_1 (w_1)  \\times \\dots \\times \\partial \\vert \\cdot \\vert_1 (w_p) $$\n",
    "where $\\times$ is the Cartesian product between sets,\n",
    "and $$ \\partial \\vert \\cdot \\vert_1 (w_1) = \n",
    "\\begin{cases} &w_j / |w_j| &\\mathrm{if} \\quad w_j \\neq 0, \n",
    "         \\\\ & [-1, 1] &\\mathrm{otherwise.} \n",
    "\\end{cases}\n",
    "$$\n",
    "\n",
    "\n",
    "(it should now be easy to find $\\partial \\Vert \\cdot \\Vert_1 (\\mathbf{0}_p)$)"
   ]
  },
  {
   "cell_type": "markdown",
   "metadata": {},
   "source": [
    "Let's take $f$ as\n",
    "$$\n",
    "f(w)=\\sum_{i=1}^nlog(1+e^{-y_iw^Tx_i})\n",
    "$$\n",
    "\n",
    "$$\n",
    "\\nabla f_i(w) = -\\sum_{i=1}^n \\frac{y_ix_i}{1 + \\exp(y_i x_i^\\top w)}.\n",
    "$$\n",
    "\n",
    "$$\n",
    "\\begin{align}\n",
    "&\\hat w \\in \\mathrm{arg \\, min} \\sum_{i=1}^{n} \\mathrm{log} ( 1 + e^{- y_i w^\\top x_i} )  + \\lambda \\Vert w \\Vert_1 \\\\\n",
    "\\Longleftrightarrow\\ &0 \\in \\partial\\left(\\sum_{i=1}^{n} \\mathrm{log} ( 1 + e^{- y_i w^\\top x_i} )  + \\lambda \\Vert w \\Vert_1\\right) \\\\\n",
    "\\Longleftrightarrow\\ &\\nabla f_i(w) \\in \\lambda\\ \\partial \\Vert w \\Vert_1 \\\\\n",
    "\\end{align}\n",
    "$$\n",
    "By taking $w=0$, we find\n",
    "\n",
    "$$\n",
    "\\begin{align}\n",
    "-&\\nabla f_i(0) \\in \\lambda\\ \\partial \\Vert w \\Vert_1 \\\\\n",
    "\\Longleftrightarrow\\ &\\sum_{i=1}^n\\frac{y_ix_i}{2} \\in \\ \\lambda\\partial \\Vert w \\Vert_1 \\\\\n",
    "\\Longleftrightarrow\\ &\\sum_{i=1}^n\\frac{y_ix_i}{2\\lambda} \\in \\ \\partial \\Vert w \\Vert_1\n",
    "\\end{align}\n",
    "$$\n",
    "\n",
    "$$\n",
    "\\begin{align}\n",
    "&||\\frac{X^Ty}{2\\lambda}||_{\\infty}\\leq 1 \\\\\n",
    "\\Longleftrightarrow &\\ ||X^Ty||_{\\infty}\\leq \\lambda \\\\\n",
    "\\Longleftrightarrow &\\ \\lambda_{max} \\leq \\lambda\n",
    "\\end{align}\n",
    "$$\n",
    "The function $f$ is strongly convex. So with the following lemme, we have that the minimun is unique and so\n",
    "$$\n",
    "\\lambda\\geq\\lambda_{max} \\Rightarrow \\hat w = 0\n",
    "$$\n",
    "\n",
    "#### Lemme:\n",
    "If $X\\in R^{np}$ has entries drawn from a continuous probability distribution on $\\mathbb{R}^{np}$, then for any differentiable, strictly convex function $f$, and for any $\\lambda > 0$, the minimization problem has a unique solution with probability one."
   ]
  },
  {
   "cell_type": "markdown",
   "metadata": {},
   "source": [
    "2) Show that for sparse Logistic regression the coordinate-wise Lipschitz constant of the smooth term, $\\gamma_j$, can be taken equal to $\\Vert X_j \\Vert^2 / 4$, where $X_j$ denotes the $j$-th column of $X$."
   ]
  },
  {
   "cell_type": "markdown",
   "metadata": {},
   "source": [
    "We have\n",
    "$$\n",
    "\\nabla f_i(w) = \\sum_{i=1}^n \\frac{y_ix_i}{1 + \\exp(y_i x_i^\\top w)}\n",
    "$$\n",
    "Let's find the derivative of $\\nabla f_i$ by $j$.\n",
    "$$\n",
    "h(w)=\\sum_{i=1}^n \\frac{y_ix_i}{1 + \\exp(y_i x_i^\\top w)}\n",
    "$$"
   ]
  },
  {
   "cell_type": "markdown",
   "metadata": {},
   "source": [
    "$$\n",
    "\\begin{align}\n",
    "\\frac{\\partial h(w)}{\\partial w_j}&=\\sum_{i=1}^n \\frac{(y_i x_i)_j\\exp(y_i x_i^\\top w)\\left(y_ix_i\\right)_j}{\\left(1 + \\exp(-y_i x_i^\\top w)\\right)^2} \\\\\n",
    "&=\\sum_{i=1}^n \\frac{y_i^2 x_ij^2\\exp(y_i x_i^\\top w)}{\\left(1 + \\exp(y_i x_i^\\top w)\\right)^2} \\\\\n",
    "&=\\sum_{i=1}^n \\frac{x_ij^2\\exp(-y_i x_i^\\top w)}{\\left(1 + \\exp(y_i x_i^\\top w)\\right)^2}\n",
    "\\end{align}\n",
    "$$\n",
    "As $y_i$ is equal to 1 or $-1$ and $\\frac{\\exp(-y_i x_i^\\top w)}{\\left(1 + \\exp(y_i x_i^\\top w)\\right)^2}=\\frac{\\exp(-y_i x_i^\\top w)}{\\left(1 + \\exp(y_i x_i^\\top w)\\right)^2}$, we have\n",
    "\n",
    "$$\n",
    "\\begin{align}\n",
    "\\frac{\\partial h(w)}{\\partial w_j}&=\\sum_{i=1}^n \\frac{x_ij^2\\exp(x_i^\\top w)}{\\left(1 + \\exp(x_i^\\top w)\\right)^2}\\\\\n",
    "&=\\sum_{i=1}^n  \\frac{X_{i, j}^2 \\mathrm{e}^{(Xw)i}}{(1 + \\mathrm{e}^{(Xw)i})^2}\n",
    "\\end{align}\n",
    "$$\n",
    "\n",
    "As $ \\forall x\\in\\mathbb{R},\\  \\frac{\\mathrm{e}^{x}}{(1 + \\mathrm{e}^{x})^2}\\leq\\frac{1}{4}$\n",
    "$$\n",
    "\\begin{align}\n",
    "\\frac{\\partial h(w)}{\\partial w_j}&\\leq \\frac{1}{4}\\sum_{i=1}^n  X_{i, j}^2 \\\\\n",
    "&\\leq \\frac{1}{4}\\Vert X_j \\Vert^2\n",
    "\\end{align}\n",
    "$$"
   ]
  },
  {
   "cell_type": "markdown",
   "metadata": {},
   "source": [
    "You are now ready to code cyclic proximal coordinate descent for sparse Logistic regression:"
   ]
  },
  {
   "cell_type": "markdown",
   "metadata": {},
   "source": [
    "**Bonus**: show that is possible, when the current iterate is w, to use the better Lipschitz constant \n",
    "    $$\\sum_i  \\frac{X_{i, j}^2 \\mathrm{e}^{(Xw)i}}{(1 + \\mathrm{e}^{(Xw)i})^2}$$\n",
    "    \n",
    "As we can see above, the derivative is equal to $\\sum_i  \\frac{X_{i, j}^2 \\mathrm{e}^{(Xw)i}}{(1 + \\mathrm{e}^{(Xw)i})^2}$,\n",
    "and this constant is better has it's smaller than the Lipschitz constant.\n",
    "\n",
    "Implement it in the code with a `better_lc` parameter, and compare."
   ]
  },
  {
   "cell_type": "code",
   "execution_count": 9,
   "metadata": {
    "ExecuteTime": {
     "end_time": "2018-11-11T16:17:43.464460Z",
     "start_time": "2018-11-11T16:17:43.446597Z"
    },
    "collapsed": true
   },
   "outputs": [],
   "source": [
    "X, y = simu(coefs, n_samples=1000, for_logreg=True)\n",
    "lambda_max = norm(X.T.dot(y), ord=np.inf) / 2.\n",
    "lamb = lambda_max / 10.\n",
    "# much easier to parametrize lambda as a function of lambda_max than\n",
    "# to take random values like 0.1 in previous Labs\n",
    "\n",
    "\n",
    "def lip_logreg(A):\n",
    "    \"\"\"Lipschitz constant for logistic loss\"\"\"\n",
    "    return np.linalg.norm(A, ord=2) ** 2 / 4\n",
    "\n",
    "\n",
    "def prox_lasso(x, s):\n",
    "    \"\"\"Proximal operator for the Lasso at x\"\"\"\n",
    "    return np.sign(x) * np.maximum(0, np.abs(x) - s)\n",
    "\n",
    "\n",
    "def sigmoid(t):\n",
    "    \"\"\"Sigmoid function\"\"\"\n",
    "    return 1. / (1. + np.exp(-t))"
   ]
  },
  {
   "cell_type": "markdown",
   "metadata": {},
   "source": [
    "### Cyclic proximal coordinate descent for sparse Logistic regression"
   ]
  },
  {
   "cell_type": "code",
   "execution_count": 10,
   "metadata": {
    "ExecuteTime": {
     "end_time": "2018-11-11T16:17:43.485599Z",
     "start_time": "2018-11-11T16:17:43.468425Z"
    },
    "collapsed": true
   },
   "outputs": [],
   "source": [
    "def cd_logreg(w_init, X, y, lamb, n_iter, better_lc=False):\n",
    "    n_samples, n_features = X.shape\n",
    "    w = w_init.copy()\n",
    "    all_objs = np.zeros(n_iter + 1)\n",
    "    lips_const = np.zeros(n_features)\n",
    "    Xw = X.dot(w)\n",
    "\n",
    "    all_objs[0] = np.log(1. + np.exp(-y * Xw)).sum() + lamb * norm(w, ord=1)\n",
    "\n",
    "    if not better_lc:\n",
    "        lips_const = (np.linalg.norm(X, axis=0) ** 2) / 4\n",
    "\n",
    "    for t in range(n_iter):\n",
    "        for j in range(n_features):\n",
    "            old_w_j = w[j]\n",
    "            grad_j = np.sum(- y * X[:, j] * sigmoid(-y * Xw))\n",
    "\n",
    "            if better_lc:\n",
    "                # update Lipschitz constant\n",
    "                lips_const = np.sum(X[:, j] ** 2 * np.exp(Xw) / (1 + np.exp(Xw)) ** 2)\n",
    "                w[j] = prox_lasso(w[j] - grad_j / lips_const, lamb/lips_const)\n",
    "            else:\n",
    "                w[j] = prox_lasso(w[j] - grad_j / lips_const[j], lamb / lips_const[j])\n",
    "                \n",
    "            if old_w_j != w[j]:\n",
    "                Xw += X[:, j].dot(w[j] - old_w_j)\n",
    "                \n",
    "        all_objs[t+1] = np.log(1. + np.exp(-y * Xw)).sum() + lamb * norm(w, ord=1)\n",
    "\n",
    "    return w, all_objs"
   ]
  },
  {
   "cell_type": "markdown",
   "metadata": {},
   "source": [
    "#### Compare the performance with usual Lipschitz constant and with better constant"
   ]
  },
  {
   "cell_type": "code",
   "execution_count": 11,
   "metadata": {
    "ExecuteTime": {
     "end_time": "2018-11-11T16:17:43.815926Z",
     "start_time": "2018-11-11T16:17:43.491256Z"
    }
   },
   "outputs": [
    {
     "data": {
      "text/plain": [
       "<matplotlib.legend.Legend at 0x7f291d912910>"
      ]
     },
     "execution_count": 11,
     "metadata": {},
     "output_type": "execute_result"
    },
    {
     "data": {
      "image/png": "[encoded data removed]",
      "text/plain": [
       "<matplotlib.figure.Figure at 0x7f292c089350>"
      ]
     },
     "metadata": {
      "needs_background": "light"
     },
     "output_type": "display_data"
    }
   ],
   "source": [
    "n_samples, n_features = X.shape\n",
    "w_init = np.zeros(n_features)\n",
    "\n",
    "step_log = 1. / lip_logreg(X)\n",
    "w_cd_logreg, all_objs_cd_logreg = cd_logreg(\n",
    "    w_init=w_init, X=X, y=y, lamb=lamb, n_iter=4, better_lc=False)\n",
    "\n",
    "w_cd_logreg_better, all_objs_cd_logreg_better = cd_logreg(\n",
    "    w_init=w_init, X=X, y=y, lamb=lamb, n_iter=4, better_lc=True)\n",
    "\n",
    "plt.figure(figsize=(15, 8))\n",
    "plt.semilogy(all_objs_cd_logreg, label=\"usual lc\")\n",
    "plt.semilogy(all_objs_cd_logreg_better, label=\"better_lc\")\n",
    "plt.title('Objective')\n",
    "plt.xlabel('epoch')\n",
    "plt.ylabel('objective')\n",
    "plt.legend()"
   ]
  },
  {
   "cell_type": "markdown",
   "metadata": {},
   "source": [
    "# Part 3: Real data\n",
    "\n",
    "We will compare vanilla cyclic CD and ISTA to solve the Lasso on a real dataset, called _leukemia_.\n",
    "\n",
    "You can download the file here: http://web.stanford.edu/~hastie/CASI_files/DATA/leukemia_big.csv, and you should place it in the same folder as the current notebook."
   ]
  },
  {
   "cell_type": "markdown",
   "metadata": {},
   "source": [
    "**Data**"
   ]
  },
  {
   "cell_type": "code",
   "execution_count": 4,
   "metadata": {
    "ExecuteTime": {
     "end_time": "2018-11-11T16:26:05.700674Z",
     "start_time": "2018-11-11T16:26:05.566937Z"
    }
   },
   "outputs": [
    {
     "data": {
      "text/html": [
       "<div>\n",
       "<style>\n",
       "    .dataframe thead tr:only-child th {\n",
       "        text-align: right;\n",
       "    }\n",
       "\n",
       "    .dataframe thead th {\n",
       "        text-align: left;\n",
       "    }\n",
       "\n",
       "    .dataframe tbody tr th {\n",
       "        vertical-align: top;\n",
       "    }\n",
       "</style>\n",
       "<table border=\"1\" class=\"dataframe\">\n",
       "  <thead>\n",
       "    <tr style=\"text-align: right;\">\n",
       "      <th></th>\n",
       "      <th>ALL</th>\n",
       "      <th>ALL.1</th>\n",
       "      <th>ALL.2</th>\n",
       "      <th>ALL.3</th>\n",
       "      <th>ALL.4</th>\n",
       "      <th>ALL.5</th>\n",
       "      <th>ALL.6</th>\n",
       "      <th>ALL.7</th>\n",
       "      <th>ALL.8</th>\n",
       "      <th>ALL.9</th>\n",
       "      <th>...</th>\n",
       "      <th>AML.15</th>\n",
       "      <th>AML.16</th>\n",
       "      <th>AML.17</th>\n",
       "      <th>AML.18</th>\n",
       "      <th>AML.19</th>\n",
       "      <th>AML.20</th>\n",
       "      <th>AML.21</th>\n",
       "      <th>AML.22</th>\n",
       "      <th>AML.23</th>\n",
       "      <th>AML.24</th>\n",
       "    </tr>\n",
       "  </thead>\n",
       "  <tbody>\n",
       "    <tr>\n",
       "      <th>0</th>\n",
       "      <td>-1.533622</td>\n",
       "      <td>-0.867610</td>\n",
       "      <td>-0.433172</td>\n",
       "      <td>-1.671903</td>\n",
       "      <td>-1.187689</td>\n",
       "      <td>-1.127234</td>\n",
       "      <td>-1.045409</td>\n",
       "      <td>-0.106917</td>\n",
       "      <td>-1.198796</td>\n",
       "      <td>-1.190899</td>\n",
       "      <td>...</td>\n",
       "      <td>-0.436650</td>\n",
       "      <td>-1.274708</td>\n",
       "      <td>-0.681458</td>\n",
       "      <td>-0.876610</td>\n",
       "      <td>-0.624022</td>\n",
       "      <td>-0.431628</td>\n",
       "      <td>-1.435259</td>\n",
       "      <td>-0.671954</td>\n",
       "      <td>-1.013161</td>\n",
       "      <td>-0.969482</td>\n",
       "    </tr>\n",
       "    <tr>\n",
       "      <th>1</th>\n",
       "      <td>-1.235673</td>\n",
       "      <td>-1.275501</td>\n",
       "      <td>-1.184492</td>\n",
       "      <td>-1.596424</td>\n",
       "      <td>-1.335256</td>\n",
       "      <td>-1.113730</td>\n",
       "      <td>-0.800880</td>\n",
       "      <td>-0.745177</td>\n",
       "      <td>-0.849312</td>\n",
       "      <td>-1.190899</td>\n",
       "      <td>...</td>\n",
       "      <td>-0.915483</td>\n",
       "      <td>-1.354363</td>\n",
       "      <td>-0.653559</td>\n",
       "      <td>-1.096250</td>\n",
       "      <td>-1.066594</td>\n",
       "      <td>-1.335256</td>\n",
       "      <td>-1.204586</td>\n",
       "      <td>-0.751457</td>\n",
       "      <td>-0.889592</td>\n",
       "      <td>-1.080988</td>\n",
       "    </tr>\n",
       "    <tr>\n",
       "      <th>2</th>\n",
       "      <td>-0.333983</td>\n",
       "      <td>0.375927</td>\n",
       "      <td>-0.459196</td>\n",
       "      <td>-1.422571</td>\n",
       "      <td>-0.797493</td>\n",
       "      <td>-1.362768</td>\n",
       "      <td>-0.671954</td>\n",
       "      <td>-1.175674</td>\n",
       "      <td>0.320813</td>\n",
       "      <td>0.646610</td>\n",
       "      <td>...</td>\n",
       "      <td>-0.736156</td>\n",
       "      <td>-0.022153</td>\n",
       "      <td>-0.037455</td>\n",
       "      <td>-0.567335</td>\n",
       "      <td>-1.100749</td>\n",
       "      <td>-0.552938</td>\n",
       "      <td>-0.948874</td>\n",
       "      <td>-0.231657</td>\n",
       "      <td>-0.742163</td>\n",
       "      <td>-0.779500</td>\n",
       "    </tr>\n",
       "    <tr>\n",
       "      <th>3</th>\n",
       "      <td>0.488702</td>\n",
       "      <td>0.444011</td>\n",
       "      <td>0.436264</td>\n",
       "      <td>0.193353</td>\n",
       "      <td>0.235632</td>\n",
       "      <td>-0.360312</td>\n",
       "      <td>0.184941</td>\n",
       "      <td>0.425653</td>\n",
       "      <td>0.333983</td>\n",
       "      <td>0.235270</td>\n",
       "      <td>...</td>\n",
       "      <td>0.083781</td>\n",
       "      <td>0.356562</td>\n",
       "      <td>0.416241</td>\n",
       "      <td>0.533986</td>\n",
       "      <td>0.227505</td>\n",
       "      <td>0.416816</td>\n",
       "      <td>0.408202</td>\n",
       "      <td>0.326556</td>\n",
       "      <td>0.361813</td>\n",
       "      <td>0.298864</td>\n",
       "    </tr>\n",
       "    <tr>\n",
       "      <th>4</th>\n",
       "      <td>-1.300893</td>\n",
       "      <td>-1.229660</td>\n",
       "      <td>-1.325882</td>\n",
       "      <td>-1.818329</td>\n",
       "      <td>-1.311206</td>\n",
       "      <td>-1.513975</td>\n",
       "      <td>-1.651624</td>\n",
       "      <td>-1.339555</td>\n",
       "      <td>-0.593132</td>\n",
       "      <td>0.133302</td>\n",
       "      <td>...</td>\n",
       "      <td>-1.547444</td>\n",
       "      <td>-1.264475</td>\n",
       "      <td>-1.512318</td>\n",
       "      <td>-1.469583</td>\n",
       "      <td>-1.283472</td>\n",
       "      <td>-0.977672</td>\n",
       "      <td>-1.090178</td>\n",
       "      <td>-1.545120</td>\n",
       "      <td>-1.174272</td>\n",
       "      <td>-1.443183</td>\n",
       "    </tr>\n",
       "  </tbody>\n",
       "</table>\n",
       "<p>5 rows × 72 columns</p>\n",
       "</div>"
      ],
      "text/plain": [
       "        ALL     ALL.1     ALL.2     ALL.3     ALL.4     ALL.5     ALL.6  \\\n",
       "0 -1.533622 -0.867610 -0.433172 -1.671903 -1.187689 -1.127234 -1.045409   \n",
       "1 -1.235673 -1.275501 -1.184492 -1.596424 -1.335256 -1.113730 -0.800880   \n",
       "2 -0.333983  0.375927 -0.459196 -1.422571 -0.797493 -1.362768 -0.671954   \n",
       "3  0.488702  0.444011  0.436264  0.193353  0.235632 -0.360312  0.184941   \n",
       "4 -1.300893 -1.229660 -1.325882 -1.818329 -1.311206 -1.513975 -1.651624   \n",
       "\n",
       "      ALL.7     ALL.8     ALL.9    ...       AML.15    AML.16    AML.17  \\\n",
       "0 -0.106917 -1.198796 -1.190899    ...    -0.436650 -1.274708 -0.681458   \n",
       "1 -0.745177 -0.849312 -1.190899    ...    -0.915483 -1.354363 -0.653559   \n",
       "2 -1.175674  0.320813  0.646610    ...    -0.736156 -0.022153 -0.037455   \n",
       "3  0.425653  0.333983  0.235270    ...     0.083781  0.356562  0.416241   \n",
       "4 -1.339555 -0.593132  0.133302    ...    -1.547444 -1.264475 -1.512318   \n",
       "\n",
       "     AML.18    AML.19    AML.20    AML.21    AML.22    AML.23    AML.24  \n",
       "0 -0.876610 -0.624022 -0.431628 -1.435259 -0.671954 -1.013161 -0.969482  \n",
       "1 -1.096250 -1.066594 -1.335256 -1.204586 -0.751457 -0.889592 -1.080988  \n",
       "2 -0.567335 -1.100749 -0.552938 -0.948874 -0.231657 -0.742163 -0.779500  \n",
       "3  0.533986  0.227505  0.416816  0.408202  0.326556  0.361813  0.298864  \n",
       "4 -1.469583 -1.283472 -0.977672 -1.090178 -1.545120 -1.174272 -1.443183  \n",
       "\n",
       "[5 rows x 72 columns]"
      ]
     },
     "execution_count": 4,
     "metadata": {},
     "output_type": "execute_result"
    }
   ],
   "source": [
    "df_leukemia = pd.read_csv('leukemia_big.csv')\n",
    "df_leukemia.head()"
   ]
  },
  {
   "cell_type": "markdown",
   "metadata": {},
   "source": [
    "**Defining X and y**"
   ]
  },
  {
   "cell_type": "code",
   "execution_count": 6,
   "metadata": {
    "ExecuteTime": {
     "end_time": "2018-11-11T16:27:55.356845Z",
     "start_time": "2018-11-11T16:27:54.744790Z"
    }
   },
   "outputs": [
    {
     "name": "stdout",
     "output_type": "stream",
     "text": [
      "There are 72 patients and 7128 genes.\n",
      "[ 1  1 -1 -1  1  1  1 -1]\n"
     ]
    }
   ],
   "source": [
    "from numpy import genfromtxt\n",
    "y = 2 * (genfromtxt('leukemia_big.csv', delimiter=',', dtype=str)[0] == 'ALL') - 1\n",
    "X = genfromtxt('leukemia_big.csv', delimiter=',')[1:].T\n",
    "print('There are {0} patients and {1} genes.'.format(X.shape[0], X.shape[1]))\n",
    "print(y[::10])"
   ]
  },
  {
   "cell_type": "code",
   "execution_count": 13,
   "metadata": {
    "ExecuteTime": {
     "end_time": "2018-11-11T16:17:44.595780Z",
     "start_time": "2018-11-11T16:17:44.590392Z"
    },
    "collapsed": true
   },
   "outputs": [],
   "source": [
    "lambda_max_lasso = norm(X.T.dot(y), ord=np.inf)\n",
    "lambd = lambda_max_lasso / 5.\n",
    "n_samples, n_features = X.shape"
   ]
  },
  {
   "cell_type": "markdown",
   "metadata": {},
   "source": [
    "Code:\n",
    "- a simple proximal gradient solver for the Lasso\n",
    "- a prox CD solver for the Lasso\n",
    "and compare them on this dataset. \n",
    "Do the plots in terms of epochs, not updates (to be fair to CD)."
   ]
  },
  {
   "cell_type": "code",
   "execution_count": 14,
   "metadata": {
    "ExecuteTime": {
     "end_time": "2018-11-11T16:17:44.603770Z",
     "start_time": "2018-11-11T16:17:44.599296Z"
    },
    "collapsed": true
   },
   "outputs": [],
   "source": [
    "def lasso(x, s):\n",
    "    \"\"\"Value of the Lasso penalization at x\"\"\"\n",
    "    return s * np.linalg.norm(x, ord=1)"
   ]
  },
  {
   "cell_type": "markdown",
   "metadata": {},
   "source": [
    "### Functions for Ordinary Least Square"
   ]
  },
  {
   "cell_type": "code",
   "execution_count": 15,
   "metadata": {
    "ExecuteTime": {
     "end_time": "2018-11-11T16:17:44.616400Z",
     "start_time": "2018-11-11T16:17:44.606164Z"
    },
    "collapsed": true
   },
   "outputs": [],
   "source": [
    "def grad_ols(x, Xw):\n",
    "    return - X.T.dot(y - X.dot(x))\n",
    "\n",
    "\n",
    "def loss_ols(x, Xw):\n",
    "    return np.linalg.norm(y - X.dot(x), ord=2) ** 2 / 2.\n",
    "\n",
    "\n",
    "def lip_ols(X):\n",
    "    return np.linalg.norm(X, ord=2) ** 2\n",
    "\n",
    "\n",
    "def grad_j_ols(X, y, Xw, j):\n",
    "    return - X[:, j].dot(y-Xw)\n",
    "\n",
    "\n",
    "def lip_ols_j(X):\n",
    "    return np.linalg.norm(X, axis=0) ** 2"
   ]
  },
  {
   "cell_type": "markdown",
   "metadata": {},
   "source": [
    "**ISTA algorithm**"
   ]
  },
  {
   "cell_type": "code",
   "execution_count": 16,
   "metadata": {
    "ExecuteTime": {
     "end_time": "2018-11-11T16:17:44.635148Z",
     "start_time": "2018-11-11T16:17:44.620440Z"
    },
    "collapsed": true
   },
   "outputs": [],
   "source": [
    "def ista(x0, f, grad_f, g, prox_g, step, s=0., n_iter=50):\n",
    "    \"\"\"Proximal gradient descent algorithm\n",
    "    \"\"\"\n",
    "    x = x0.copy()\n",
    "    x_new = x0.copy()\n",
    "    n_samples, n_features = X.shape\n",
    "\n",
    "    # objective history\n",
    "    objectives = []\n",
    "    # Current objective\n",
    "    Xw = X.dot(x)\n",
    "    obj = f(x, Xw) + g(x, s)\n",
    "    objectives.append(obj)\n",
    "    \n",
    "    for k in range(n_iter):\n",
    "        x = prox_g(x - step * grad_f(x, Xw), s * step)\n",
    "        Xw = X.dot(x)\n",
    "        obj = f(x, Xw) + g(x, s)\n",
    "        \n",
    "        objectives.append(obj)\n",
    "        \n",
    "    return x, objectives"
   ]
  },
  {
   "cell_type": "markdown",
   "metadata": {},
   "source": [
    "**Proximal CD with OLS**"
   ]
  },
  {
   "cell_type": "code",
   "execution_count": 17,
   "metadata": {
    "ExecuteTime": {
     "end_time": "2018-11-11T16:17:44.653239Z",
     "start_time": "2018-11-11T16:17:44.639119Z"
    },
    "collapsed": true
   },
   "outputs": [],
   "source": [
    "def cd(w_init, lips_const, f, grad_f, g, prox_g, X, y, lamb, n_iter):\n",
    "    n_samples, n_features = X.shape\n",
    "    w = w_init.copy()\n",
    "\n",
    "    Xw = X.dot(w)\n",
    "\n",
    "    all_objs = np.zeros(n_iter + 1)\n",
    "    all_objs[0] = f(w, Xw) + g(w, lamb)\n",
    "\n",
    "    for t in range(n_iter):\n",
    "        for j in range(n_features):\n",
    "            old_w_j = w[j]\n",
    "\n",
    "            grad_j = grad_f(X, y, Xw, j)\n",
    "            w[j] = prox_g(w[j] - grad_j / lips_const[j], lamb / lips_const[j])\n",
    "            \n",
    "            if old_w_j != w[j]:\n",
    "                Xw += X[:, j].dot(w[j] - old_w_j)\n",
    "                \n",
    "        all_objs[t+1] = f(w, Xw) + g(w, lamb)\n",
    "\n",
    "    return w, all_objs"
   ]
  },
  {
   "cell_type": "markdown",
   "metadata": {},
   "source": [
    "**Running ISTA and Proximal CD with OLS**"
   ]
  },
  {
   "cell_type": "code",
   "execution_count": 20,
   "metadata": {
    "ExecuteTime": {
     "end_time": "2018-11-11T16:18:48.751888Z",
     "start_time": "2018-11-11T16:18:47.635669Z"
    },
    "collapsed": true
   },
   "outputs": [],
   "source": [
    "step_ols = 1. / lip_ols(X)\n",
    "n_iter = 30\n",
    "w0 = np.zeros(n_features)\n",
    "w_ista_ols, obj_ista_ols = ista(x0=w0, f=loss_ols, grad_f=grad_ols, g=lasso, prox_g=prox_lasso,\n",
    "                                step=step_ols, s=lambd, n_iter=n_iter)\n",
    "\n",
    "w_cd_ols, all_objs_cd_ols = cd(w_init=w0, lips_const=lip_ols_j(\n",
    "    X), f=loss_ols, grad_f=grad_j_ols, g=lasso, prox_g=prox_lasso, X=X, y=y, lamb=lambd, n_iter=n_iter)"
   ]
  },
  {
   "cell_type": "markdown",
   "metadata": {},
   "source": [
    "**Comparison**"
   ]
  },
  {
   "cell_type": "code",
   "execution_count": 21,
   "metadata": {
    "ExecuteTime": {
     "end_time": "2018-11-11T16:18:52.461040Z",
     "start_time": "2018-11-11T16:18:52.238677Z"
    }
   },
   "outputs": [
    {
     "data": {
      "image/png": "[encoded data removed]",
      "text/plain": [
       "<matplotlib.figure.Figure at 0x7f292d563ad0>"
      ]
     },
     "metadata": {
      "needs_background": "light"
     },
     "output_type": "display_data"
    }
   ],
   "source": [
    "plt.figure(figsize=(15, 8))\n",
    "\n",
    "plt.semilogy(all_objs_cd_ols, label=\"cd prox\")\n",
    "plt.semilogy(obj_ista_ols, label=\"ista\")\n",
    "plt.title('ISTA versus proximal CD-OLS regression')\n",
    "plt.ylabel('Objective')\n",
    "plt.xlabel('Epochs')\n",
    "plt.legend()\n",
    "\n",
    "plt.show()"
   ]
  },
  {
   "cell_type": "markdown",
   "metadata": {},
   "source": [
    "The proximal CD solver is way faster than the ista."
   ]
  },
  {
   "cell_type": "code",
   "execution_count": null,
   "metadata": {
    "collapsed": true
   },
   "outputs": [],
   "source": []
  }
 ],
 "metadata": {
  "anaconda-cloud": {},
  "kernelspec": {
   "display_name": "Python 3",
   "language": "python",
   "name": "python3"
  },
  "language_info": {
   "codemirror_mode": {
    "name": "ipython",
    "version": 2
   },
   "file_extension": ".py",
   "mimetype": "text/x-python",
   "name": "python",
   "nbconvert_exporter": "python",
   "pygments_lexer": "ipython2",
   "version": "2.7.14"
  },
  "toc": {
   "base_numbering": 1,
   "nav_menu": {},
   "number_sections": true,
   "sideBar": true,
   "skip_h1_title": true,
   "title_cell": "Table of Contents",
   "title_sidebar": "Contents",
   "toc_cell": false,
   "toc_position": {},
   "toc_section_display": true,
   "toc_window_display": false
  },
  "varInspector": {
   "cols": {
    "lenName": 16,
    "lenType": 16,
    "lenVar": 40
   },
   "kernels_config": {
    "python": {
     "delete_cmd_postfix": "",
     "delete_cmd_prefix": "del ",
     "library": "var_list.py",
     "varRefreshCmd": "print(var_dic_list())"
    },
    "r": {
     "delete_cmd_postfix": ") ",
     "delete_cmd_prefix": "rm(",
     "library": "var_list.r",
     "varRefreshCmd": "cat(var_dic_list()) "
    }
   },
   "types_to_exclude": [
    "module",
    "function",
    "builtin_function_or_method",
    "instance",
    "_Feature"
   ],
   "window_display": false
  }
 },
 "nbformat": 4,
 "nbformat_minor": 2
}
